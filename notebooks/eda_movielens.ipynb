{
 "cells": [
  {
   "cell_type": "code",
   "execution_count": null,
   "id": "8c805906",
   "metadata": {},
   "outputs": [],
   "source": [
    "import pandas as pd\n",
    "import matplotlib.pyplot as plt\n",
    "\n",
    "# Load MovieLens data\n",
    "ratings = pd.read_csv('../datasets/movielens/ratings.csv')\n",
    "\n",
    "# Basic statistics\n",
    "print(ratings.describe())\n",
    "\n",
    "# Rating distribution\n",
    "plt.figure(figsize=(8, 6))\n",
    "ratings['rating'].hist(bins=10)\n",
    "plt.title('Rating Distribution')\n",
    "plt.xlabel('Rating')\n",
    "plt.ylabel('Frequency')\n",
    "plt.savefig('figures/rating_distribution.png')\n",
    "plt.close()\n",
    "\n",
    "# Number of ratings per user\n",
    "user_ratings = ratings.groupby('userId').size()\n",
    "plt.figure(figsize=(8, 6))\n",
    "user_ratings.hist(bins=50)\n",
    "plt.title('Number of Ratings per User')\n",
    "plt.xlabel('Number of Ratings')\n",
    "plt.ylabel('Frequency')\n",
    "plt.savefig('figures/user_ratings_distribution.png')\n",
    "plt.close()"
   ]
  }
 ],
 "metadata": {
  "kernelspec": {
   "display_name": "Python 3",
   "language": "python",
   "name": "python3"
  },
  "language_info": {
   "codemirror_mode": {
    "name": "ipython",
    "version": 3
   },
   "file_extension": ".py",
   "mimetype": "text/x-python",
   "name": "python",
   "nbconvert_exporter": "python",
   "pygments_lexer": "ipython3",
   "version": "3.8.10"
  }
 },
 "nbformat": 4,
 "nbformat_minor": 5
}
